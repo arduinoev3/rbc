{
 "cells": [
  {
   "cell_type": "code",
   "execution_count": 1,
   "metadata": {},
   "outputs": [],
   "source": [
    "import pandas as pd\n",
    "import numpy as np"
   ]
  },
  {
   "cell_type": "code",
   "execution_count": 13,
   "metadata": {},
   "outputs": [],
   "source": [
    "df = pd.read_csv(\"data.csv\")\n"
   ]
  },
  {
   "cell_type": "code",
   "execution_count": 9,
   "metadata": {},
   "outputs": [
    {
     "data": {
      "text/plain": [
       "73"
      ]
     },
     "execution_count": 9,
     "metadata": {},
     "output_type": "execute_result"
    }
   ],
   "source": [
    "df.loc[df[df.id == 5250367490].index[0], \"email\"] = \"anya-che@bk.ru\"\n",
    "df.loc[df[df.id == 5250367490].index[0], \"summa\"] = 14\n",
    "\n",
    "df.loc[df[df.id == 1128519001].index[0], \"email\"] = \"regina_ukr@inbox.ru\"\n",
    "df.loc[df[df.id == 1128519001].index[0], \"summa\"] = 13\n",
    "\n",
    "df.loc[df[df.id == 457399166].index[0], \"email\"] = \"oksajanan@gmail.com\"\n",
    "df.loc[df[df.id == 457399166].index[0], \"summa\"] = 11\n",
    "\n",
    "df.loc[df[df.id == 1073387850].index[0], \"email\"] = \"Victoria_Cislari@gmx.de\"\n",
    "df.loc[df[df.id == 1073387850].index[0], \"summa\"] = 11\n",
    "\n",
    "df.loc[df[df.id == 1389734738].index[0], \"email\"] = \"Svetlana.ahmadullina.1980@mail.ru\"\n",
    "df.loc[df[df.id == 1389734738].index[0], \"summa\"] = 9\n",
    "\n",
    "df.loc[df[df.id == 5569865861].index[0], \"email\"] = \"ilsiya.nugmanova@mail.ru\"\n",
    "df.loc[df[df.id == 5569865861].index[0], \"summa\"] = 15\n",
    "\n",
    "df.loc[df[df.id == 478857228].index[0], \"email\"] = \"Spandik83@yandex.ru\"\n",
    "df.loc[df[df.id == 478857228].index[0], \"summa\"] = 8\n",
    "\n",
    "df.loc[df[df.id == 478857228].index[0], \"email\"] = \"Spandik83@yandex.ru\"\n",
    "df.loc[df[df.id == 478857228].index[0], \"summa\"] = 8\n",
    "\n",
    "df.loc[df[df.id == 1383380519].index[0], \"email\"] = \"aregata2003@mail.ru\"\n",
    "df.loc[df[df.id == 1383380519].index[0], \"summa\"] = 14\n",
    "\n",
    "len(df)"
   ]
  },
  {
   "cell_type": "code",
   "execution_count": 20,
   "metadata": {},
   "outputs": [
    {
     "name": "stderr",
     "output_type": "stream",
     "text": [
      "/var/folders/22/r034tgc508146mmzbyqzpmqm0000gn/T/ipykernel_98915/3991998294.py:1: FutureWarning: using <function <lambda> at 0x119252840> in Series.agg cannot aggregate and has been deprecated. Use Series.transform to keep behavior unchanged.\n",
      "  df.premium = df.premium.agg(lambda x: True if x == \"True\" else False)\n"
     ]
    },
    {
     "data": {
      "text/plain": [
       "<bound method Series.info of 0     False\n",
       "1     False\n",
       "2     False\n",
       "3     False\n",
       "4     False\n",
       "      ...  \n",
       "66    False\n",
       "67    False\n",
       "68    False\n",
       "69    False\n",
       "70    False\n",
       "Name: premium, Length: 71, dtype: bool>"
      ]
     },
     "execution_count": 20,
     "metadata": {},
     "output_type": "execute_result"
    }
   ],
   "source": [
    "df.premium = df.premium.agg(lambda x: True if x == \"True\" else False)\n",
    "df.premium.info"
   ]
  },
  {
   "cell_type": "code",
   "execution_count": 16,
   "metadata": {},
   "outputs": [
    {
     "name": "stdout",
     "output_type": "stream",
     "text": [
      "71\n"
     ]
    },
    {
     "data": {
      "text/plain": [
       "71"
      ]
     },
     "execution_count": 16,
     "metadata": {},
     "output_type": "execute_result"
    }
   ],
   "source": [
    "df = pd.read_csv(\"data.csv\")\n",
    "print(len(set(df.id)))\n",
    "len(df)"
   ]
  },
  {
   "cell_type": "code",
   "execution_count": 22,
   "metadata": {},
   "outputs": [],
   "source": [
    "df.to_csv(\"data.csv\", index=False)"
   ]
  }
 ],
 "metadata": {
  "kernelspec": {
   "display_name": "Python 3",
   "language": "python",
   "name": "python3"
  },
  "language_info": {
   "codemirror_mode": {
    "name": "ipython",
    "version": 3
   },
   "file_extension": ".py",
   "mimetype": "text/x-python",
   "name": "python",
   "nbconvert_exporter": "python",
   "pygments_lexer": "ipython3",
   "version": "3.12.0"
  }
 },
 "nbformat": 4,
 "nbformat_minor": 2
}
